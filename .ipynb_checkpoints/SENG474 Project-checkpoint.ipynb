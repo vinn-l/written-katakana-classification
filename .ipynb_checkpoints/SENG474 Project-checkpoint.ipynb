{
 "cells": [
  {
   "cell_type": "markdown",
   "metadata": {},
   "source": [
    "# SENG474 Project Report\n",
    "##  Multi-Category Classification to Identify Japanese Katakana Character\n",
    "\n",
    "\n",
    "#### Jue Fu V00863998 | Arthur Wang V00847655 | Waltvin Lee V00894034\n",
    "\n",
    "####  Dec 4 2019\n",
    "\n",
    "## 1 Introduction\n",
    "In this project, we apply data mining techniques to the classical machine learning problem of hand-written & machine printed character recognition. Language with a smaller alphabet is preferred to keep the training cycle short. So we choose a handwritten database of Japanese katakana for higher application value.\n",
    "\n",
    "\n",
    "## 2 Data Collection\n",
    "Our dataset is taken from the ETL character database, which is a collection of images of about 1.2 million hand-written and machine-printed numerals, symbols, Latin alphabets and Japanese characters that compiled in 9 datasets (ETL-1 to ETL-9).[1]  \n",
    "We will be using the ETL-5 provided dataset that consists of **51 Katakana characters**.  \n",
    "\n",
    "We read a binary format file to extract the pixels and reshape them into **10608  (50*208) hand-written images** of size **72x76 pixels**, however there was a large amount of white space margin, therefore we have decided to crop the margin of every image down to **50x50 pixels**. \n",
    "\n",
    "During data elicitation, we have found that there were 3 duplicate characters that appeared twice, which will cause our classifier to classify one to another. These duplicate characters will also have twice the amount of data instances, and would be inconsistent with other characters, therefore we as a group have decided to remove the duplicates of these 3 characters, reducing our dataset to now consist **48 kinds of Katakana characters**."
   ]
  },
  {
   "cell_type": "code",
   "execution_count": 1,
   "metadata": {},
   "outputs": [],
   "source": [
    "# !pip install numpy\n",
    "# !pip install matplotlib\n",
    "# !pip install sklearn"
   ]
  },
  {
   "cell_type": "code",
   "execution_count": 2,
   "metadata": {},
   "outputs": [],
   "source": [
    "import struct\n",
    "import numpy as np\n",
    "from matplotlib import pyplot as plt\n",
    "import math\n",
    "import time\n",
    "from sklearn.svm import LinearSVC\n",
    "from sklearn.linear_model import LogisticRegression\n",
    "from sklearn.naive_bayes import GaussianNB\n",
    "from sklearn.neighbors import KNeighborsClassifier\n",
    "from sklearn.tree import DecisionTreeClassifier\n",
    "from sklearn.linear_model import Perceptron"
   ]
  },
  {
   "cell_type": "code",
   "execution_count": 3,
   "metadata": {},
   "outputs": [],
   "source": [
    "# An instance record has 2952 bytes. (1 byte = 8 bits) (1 character = 6bits) (4bit/pixel) \n",
    "# 72(X-axis size) * 76(Y-axis size) = 5472 pixels\n",
    "size_record = 2952\n",
    "\n",
    "#Pixels will contain an array of the 4 bit color representation of a hand-written instance\n",
    "def read_record(f):\n",
    "    pixels = []\n",
    "    s = f.read(size_record)\n",
    "    str_data = struct.unpack_from('>2736s',s,216)[0]\n",
    "    offset = 0\n",
    "    while offset < len(str_data):\n",
    "        # [2:] removes the 0b at the front, zfill appends zeros at the front to ensure 8 bits\n",
    "        byte = bin(int(str_data[offset]))[2:].zfill(8)\n",
    "        \n",
    "        # Append to pixels array, 1 byte (2 pixels) at a time\n",
    "        pixels.append(byte[0:4])\n",
    "        pixels.append(byte[4:8])\n",
    "        offset = offset + 1\n",
    "    pixels = [float(x) for x in pixels]\n",
    "    return pixels"
   ]
  },
  {
   "cell_type": "markdown",
   "metadata": {},
   "source": [
    "## 3 Data Preprocessing and Visualization\n",
    "To obtain the information from the ETLC-5 file, we write the following helper functions. [2]\n",
    "\n",
    "### 3.1 read_record()\n",
    "The read_record() function will return an array of 4 bit color representation of a hand-written instance.\n",
    "\n",
    "The Japanese database provides only binary files in the following format: \n",
    "\n",
    "![Image](image.png)\n",
    "\n",
    "In this function `struct` library is applied to unpack bits from binary file. \n",
    "\n",
    "Each record contains the info of a hand-written image. \n",
    "\n",
    "The function reads pixel by pixel starting from the offset and then append them to a list. \n",
    "\n",
    "The list `pixels` carrying all the 4-bit greyscale representation of pixels from a single image would be returned. Therefore the length of `pixels` would be the count of all pixels in an image which equals height * width (72*76)."
   ]
  },
  {
   "cell_type": "markdown",
   "metadata": {},
   "source": [
    "### 3.2 read_katakana()\n",
    "The read_katakana() function will return a 4d array with values of 4 bit color representation of the form of arr[Char No, Instance No, X, Y]"
   ]
  },
  {
   "cell_type": "code",
   "execution_count": 4,
   "metadata": {},
   "outputs": [],
   "source": [
    "def read_katakana():\n",
    "    # 48: number of katakana characters\n",
    "    # 208: number of images for each katakana\n",
    "    # 50*50: image size\n",
    "    arr = np.zeros([48,208,50,50], dtype=np.float32)\n",
    "    filename = 'ETL5C'\n",
    "    with open(filename, 'rb') as f:\n",
    "        i = 0\n",
    "        char_offset = 0\n",
    "        while i < 10608:\n",
    "        # for i in range(500):\n",
    "            pixels_arr = np.array(read_record(f))\n",
    "            pic = np.reshape(pixels_arr,(76,72)).astype(np.float32)\n",
    "            \n",
    "            # Crop image to 50px,50px\n",
    "            pic = pic[13:63,11:61]\n",
    "            \n",
    "            # Remove characters number 36, 38, 47 since they are duplicates\n",
    "            if math.floor(i/208) in [36,38,47]:\n",
    "                if i in [36*208, 38*208, 47*208]:\n",
    "                    char_offset = char_offset + 1\n",
    "                i = i + 1\n",
    "                continue\n",
    "            arr[math.floor(i/208)-char_offset,i%208]= pic\n",
    "            i = i + 1\n",
    "    return arr\n",
    "\n",
    "arr = read_katakana()"
   ]
  },
  {
   "cell_type": "markdown",
   "metadata": {},
   "source": [
    "### 3.3 Viewing the image using plt.imshow\n",
    "As shown below, read_katakana() returns a 4d array, the array will be in the form of arr[Char No, Instance No, x, y].\n",
    "\n",
    "We use plt.imshow with argument arr[0][0] to print the image of the 1st character and the 1st instance."
   ]
  },
  {
   "cell_type": "code",
   "execution_count": 5,
   "metadata": {
    "scrolled": true
   },
   "outputs": [
    {
     "data": {
      "image/png": "[encoded data removed]",
      "text/plain": [
       "<Figure size 432x288 with 1 Axes>"
      ]
     },
     "metadata": {
      "needs_background": "light"
     },
     "output_type": "display_data"
    }
   ],
   "source": [
    "def view_image(arr,idx,inst):\n",
    "    \n",
    "    plt.imshow(arr[idx][inst], cmap='gray', interpolation='nearest')\n",
    "    # following commented code could also save image to local\n",
    "    # plt.savefig(\"pic{:04d}.png\".format(idx)) #save image as file\n",
    "    # print(\"{:04d} finished.\".format(idx))\n",
    "    \n",
    "view_image(arr,0,0)"
   ]
  },
  {
   "cell_type": "markdown",
   "metadata": {},
   "source": [
    "## 4 Data Mining\n",
    "Now that we have all the hand-written instances stored conveniently in an array given by the read_katakana() function, we can start the data mining process using the algorithms we have learnt.\n",
    "\n",
    "We define the functions of the algorithms that we are going to use."
   ]
  },
  {
   "cell_type": "code",
   "execution_count": 6,
   "metadata": {},
   "outputs": [],
   "source": [
    "#char_list is used to record the total number of correct predictions for a given character for all 6 classifiers\n",
    "char_list = np.zeros(48)\n",
    "\n",
    "def linearSVC(X,y,Xte,yte):\n",
    "    print(\"Processing LinearSVC...\")\n",
    "    clf = LinearSVC(max_iter=2000)\n",
    "    clf.fit(X, y)\n",
    "    Xte_res = clf.predict(Xte)\n",
    "    comp(Xte_res,yte)\n",
    "\n",
    "def logisticReg(X,y,Xte,yte):\n",
    "    print(\"Processing Logistic Regression...\")\n",
    "    logreg = LogisticRegression()\n",
    "    logreg.fit(X, y)\n",
    "    Xte_res = logreg.predict(Xte)\n",
    "    comp(Xte_res,yte)\n",
    "\n",
    "def naiveBayes(X,y,Xte,yte):\n",
    "    print(\"Processing Gaussian Native Bayes...\")\n",
    "    nb = GaussianNB()\n",
    "    nb.fit(X, y)\n",
    "    Xte_res = nb.predict(Xte)\n",
    "    comp(Xte_res,yte)\n",
    "\n",
    "def kNeighbour(X,y,Xte,yte):\n",
    "    print(\"Processing KNeighbour...\")\n",
    "    knn = KNeighborsClassifier()\n",
    "    knn.fit(X, y)\n",
    "    Xte_res = knn.predict(Xte)\n",
    "    comp(Xte_res,yte)\n",
    "\n",
    "def decisionTree(X,y,Xte,yte):\n",
    "    print(\"Processing Decision Tree...\")\n",
    "    tree = DecisionTreeClassifier()\n",
    "    tree.fit(X, y)\n",
    "    Xte_res = tree.predict(Xte)\n",
    "    comp(Xte_res,yte)\n",
    "\n",
    "def perceptron(X,y,Xte,yte):\n",
    "    print(\"Processing Perceptron...\")\n",
    "    percep = Perceptron()\n",
    "    percep.fit(X, y)\n",
    "    Xte_res = percep.predict(Xte)\n",
    "    comp(Xte_res,yte)\n",
    "    \n",
    "def comp(Xte_res,yte):\n",
    "    \n",
    "    global char_offset\n",
    "    \n",
    "    match_num = 0\n",
    "    match_list = np.zeros(48)\n",
    "    # print(\"Actual - Pred\")\n",
    "    for i in range(len(Xte_res)):\n",
    "        if Xte_res[i] == yte[i]:\n",
    "            match_list[int(yte[i])] = match_list[int(yte[i])] + 1\n",
    "            char_list[int(yte[i])] = char_list[int(yte[i])] + 1\n",
    "            match_num = match_num + 1\n",
    "        \n",
    "        #print(\"{0:02.0f} ------ {1:02.0f}\".format(yte[i],Xte_res[i]))\n",
    "    \n",
    "                          \n",
    "    for i in range(len(match_list)):\n",
    "        print(\"Character = {0:02.0f}, Correct Predictions = {1:.0f}/10, % = {2:.2f}\".format(i, match_list[i], (match_list[i]/10)* 100))\n",
    "    \n",
    "    print(\"All {0} test samples, {1} Correct Predictions. Accuracy is {2:.2f}%.\".format(len(yte),match_num,(match_num/len(yte))*100))\n",
    "    # return match_list[i]"
   ]
  },
  {
   "cell_type": "markdown",
   "metadata": {},
   "source": [
    "### 4.1 Training & Testing\n",
    "We have 208 instances for each character, therefore we have decided to use 198 Training instances, and 10 Testing instances. We have chosen the first 198 instance to be training instances, and the final 10 instances to be testing instances."
   ]
  },
  {
   "cell_type": "code",
   "execution_count": 7,
   "metadata": {},
   "outputs": [],
   "source": [
    "def training(arr, classifier):\n",
    "    # prepare X and y\n",
    "    train_sz = 198\n",
    "    test_sz = 10\n",
    "    X = np.zeros([train_sz*48, 50*50], dtype=np.float32)\n",
    "    Xte = np.zeros([test_sz*48, 50*50], dtype=np.float32)\n",
    "\n",
    "    # get training matrix X, training label y, testing matrix Xte, testing label yte\n",
    "    for i in range(48):\n",
    "         train_pics = arr[i,0:train_sz,:,:]\n",
    "         train_tuples = np.reshape(train_pics,(train_sz,50*50))\n",
    "         X[i*train_sz:(i+1)*train_sz , :] = train_tuples\n",
    "\n",
    "         test_pics = arr[i,train_sz:train_sz+test_sz,:,:]\n",
    "         test_tuples = np.reshape(test_pics,(test_sz,50*50))\n",
    "         Xte[i*test_sz:(i+1)*test_sz,:] = test_tuples\n",
    "\n",
    "    y = np.zeros([train_sz*48])\n",
    "    yte = np.zeros([test_sz*48])\n",
    "\n",
    "    for i in range(train_sz*48):\n",
    "        y[i] = math.floor(i/train_sz)\n",
    "\n",
    "    for i in range(test_sz*48):\n",
    "        yte[i] = math.floor(i/test_sz)\n",
    "        \n",
    "    if (classifier == 0):\n",
    "        kNeighbour(X,y,Xte,yte)\n",
    "    elif (classifier == 1):\n",
    "        linearSVC(X,y,Xte,yte)\n",
    "    elif (classifier == 2):\n",
    "        logisticReg(X,y,Xte,yte)\n",
    "    elif (classifier == 3):\n",
    "        naiveBayes(X,y,Xte,yte)\n",
    "    elif (classifier == 4):\n",
    "        decisionTree(X,y,Xte,yte)\n",
    "    elif (classifier == 5):\n",
    "        perceptron(X,y,Xte,yte)"
   ]
  },
  {
   "cell_type": "markdown",
   "metadata": {},
   "source": [
    "### 4.2 Results for KNeighbour"
   ]
  },
  {
   "cell_type": "code",
   "execution_count": 8,
   "metadata": {},
   "outputs": [
    {
     "name": "stdout",
     "output_type": "stream",
     "text": [
      "Processing KNeighbour...\n",
      "Character = 00, Correct Predictions = 7/10, % = 70.00\n",
      "Character = 01, Correct Predictions = 8/10, % = 80.00\n",
      "Character = 02, Correct Predictions = 3/10, % = 30.00\n",
      "Character = 03, Correct Predictions = 7/10, % = 70.00\n",
      "Character = 04, Correct Predictions = 7/10, % = 70.00\n",
      "Character = 05, Correct Predictions = 5/10, % = 50.00\n",
      "Character = 06, Correct Predictions = 9/10, % = 90.00\n",
      "Character = 07, Correct Predictions = 8/10, % = 80.00\n",
      "Character = 08, Correct Predictions = 7/10, % = 70.00\n",
      "Character = 09, Correct Predictions = 8/10, % = 80.00\n",
      "Character = 10, Correct Predictions = 5/10, % = 50.00\n",
      "Character = 11, Correct Predictions = 6/10, % = 60.00\n",
      "Character = 12, Correct Predictions = 5/10, % = 50.00\n",
      "Character = 13, Correct Predictions = 6/10, % = 60.00\n",
      "Character = 14, Correct Predictions = 7/10, % = 70.00\n",
      "Character = 15, Correct Predictions = 0/10, % = 0.00\n",
      "Character = 16, Correct Predictions = 3/10, % = 30.00\n",
      "Character = 17, Correct Predictions = 5/10, % = 50.00\n",
      "Character = 18, Correct Predictions = 7/10, % = 70.00\n",
      "Character = 19, Correct Predictions = 10/10, % = 100.00\n",
      "Character = 20, Correct Predictions = 6/10, % = 60.00\n",
      "Character = 21, Correct Predictions = 7/10, % = 70.00\n",
      "Character = 22, Correct Predictions = 5/10, % = 50.00\n",
      "Character = 23, Correct Predictions = 2/10, % = 20.00\n",
      "Character = 24, Correct Predictions = 8/10, % = 80.00\n",
      "Character = 25, Correct Predictions = 8/10, % = 80.00\n",
      "Character = 26, Correct Predictions = 6/10, % = 60.00\n",
      "Character = 27, Correct Predictions = 6/10, % = 60.00\n",
      "Character = 28, Correct Predictions = 6/10, % = 60.00\n",
      "Character = 29, Correct Predictions = 6/10, % = 60.00\n",
      "Character = 30, Correct Predictions = 5/10, % = 50.00\n",
      "Character = 31, Correct Predictions = 8/10, % = 80.00\n",
      "Character = 32, Correct Predictions = 4/10, % = 40.00\n",
      "Character = 33, Correct Predictions = 3/10, % = 30.00\n",
      "Character = 34, Correct Predictions = 5/10, % = 50.00\n",
      "Character = 35, Correct Predictions = 3/10, % = 30.00\n",
      "Character = 36, Correct Predictions = 6/10, % = 60.00\n",
      "Character = 37, Correct Predictions = 5/10, % = 50.00\n",
      "Character = 38, Correct Predictions = 4/10, % = 40.00\n",
      "Character = 39, Correct Predictions = 8/10, % = 80.00\n",
      "Character = 40, Correct Predictions = 8/10, % = 80.00\n",
      "Character = 41, Correct Predictions = 8/10, % = 80.00\n",
      "Character = 42, Correct Predictions = 7/10, % = 70.00\n",
      "Character = 43, Correct Predictions = 2/10, % = 20.00\n",
      "Character = 44, Correct Predictions = 6/10, % = 60.00\n",
      "Character = 45, Correct Predictions = 7/10, % = 70.00\n",
      "Character = 46, Correct Predictions = 5/10, % = 50.00\n",
      "Character = 47, Correct Predictions = 3/10, % = 30.00\n",
      "All 480 test samples, 280 Correct Predictions. Accuracy is 58.33%.\n",
      "Total Time Taken = 22.700145721435547s\n"
     ]
    }
   ],
   "source": [
    "start = time.time()\n",
    "training(arr,0) #KNeighbour\n",
    "end = time.time()\n",
    "print(\"Total Time Taken = {}s\".format((end - start),))"
   ]
  },
  {
   "cell_type": "markdown",
   "metadata": {},
   "source": [
    "### 4.3 Results for Linear Regression"
   ]
  },
  {
   "cell_type": "code",
   "execution_count": 9,
   "metadata": {},
   "outputs": [
    {
     "name": "stdout",
     "output_type": "stream",
     "text": [
      "Processing LinearSVC...\n",
      "Character = 00, Correct Predictions = 4/10, % = 40.00\n",
      "Character = 01, Correct Predictions = 7/10, % = 70.00\n",
      "Character = 02, Correct Predictions = 6/10, % = 60.00\n",
      "Character = 03, Correct Predictions = 4/10, % = 40.00\n",
      "Character = 04, Correct Predictions = 7/10, % = 70.00\n",
      "Character = 05, Correct Predictions = 8/10, % = 80.00\n",
      "Character = 06, Correct Predictions = 5/10, % = 50.00\n",
      "Character = 07, Correct Predictions = 3/10, % = 30.00\n",
      "Character = 08, Correct Predictions = 6/10, % = 60.00\n",
      "Character = 09, Correct Predictions = 8/10, % = 80.00\n",
      "Character = 10, Correct Predictions = 5/10, % = 50.00\n",
      "Character = 11, Correct Predictions = 6/10, % = 60.00\n",
      "Character = 12, Correct Predictions = 5/10, % = 50.00\n",
      "Character = 13, Correct Predictions = 5/10, % = 50.00\n",
      "Character = 14, Correct Predictions = 5/10, % = 50.00\n",
      "Character = 15, Correct Predictions = 4/10, % = 40.00\n",
      "Character = 16, Correct Predictions = 5/10, % = 50.00\n",
      "Character = 17, Correct Predictions = 6/10, % = 60.00\n",
      "Character = 18, Correct Predictions = 2/10, % = 20.00\n",
      "Character = 19, Correct Predictions = 8/10, % = 80.00\n",
      "Character = 20, Correct Predictions = 5/10, % = 50.00\n",
      "Character = 21, Correct Predictions = 2/10, % = 20.00\n",
      "Character = 22, Correct Predictions = 5/10, % = 50.00\n",
      "Character = 23, Correct Predictions = 1/10, % = 10.00\n",
      "Character = 24, Correct Predictions = 5/10, % = 50.00\n",
      "Character = 25, Correct Predictions = 7/10, % = 70.00\n",
      "Character = 26, Correct Predictions = 6/10, % = 60.00\n",
      "Character = 27, Correct Predictions = 4/10, % = 40.00\n",
      "Character = 28, Correct Predictions = 7/10, % = 70.00\n",
      "Character = 29, Correct Predictions = 6/10, % = 60.00\n",
      "Character = 30, Correct Predictions = 5/10, % = 50.00\n",
      "Character = 31, Correct Predictions = 5/10, % = 50.00\n",
      "Character = 32, Correct Predictions = 8/10, % = 80.00\n",
      "Character = 33, Correct Predictions = 4/10, % = 40.00\n",
      "Character = 34, Correct Predictions = 6/10, % = 60.00\n",
      "Character = 35, Correct Predictions = 5/10, % = 50.00\n",
      "Character = 36, Correct Predictions = 5/10, % = 50.00\n",
      "Character = 37, Correct Predictions = 8/10, % = 80.00\n",
      "Character = 38, Correct Predictions = 4/10, % = 40.00\n",
      "Character = 39, Correct Predictions = 7/10, % = 70.00\n",
      "Character = 40, Correct Predictions = 7/10, % = 70.00\n",
      "Character = 41, Correct Predictions = 6/10, % = 60.00\n",
      "Character = 42, Correct Predictions = 6/10, % = 60.00\n",
      "Character = 43, Correct Predictions = 2/10, % = 20.00\n",
      "Character = 44, Correct Predictions = 7/10, % = 70.00\n",
      "Character = 45, Correct Predictions = 5/10, % = 50.00\n",
      "Character = 46, Correct Predictions = 5/10, % = 50.00\n",
      "Character = 47, Correct Predictions = 4/10, % = 40.00\n",
      "All 480 test samples, 256 Correct Predictions. Accuracy is 53.33%.\n",
      "Total Time Taken = 125.27557921409607s\n"
     ]
    }
   ],
   "source": [
    "start = time.time()\n",
    "training(arr,1) #Linear Regression\n",
    "end = time.time()\n",
    "print(\"Total Time Taken = {}s\".format((end - start),))"
   ]
  },
  {
   "cell_type": "markdown",
   "metadata": {},
   "source": [
    "### 4.4 Results for NaiveBayes"
   ]
  },
  {
   "cell_type": "code",
   "execution_count": 10,
   "metadata": {},
   "outputs": [
    {
     "name": "stdout",
     "output_type": "stream",
     "text": [
      "Processing Gaussian Native Bayes...\n",
      "Character = 00, Correct Predictions = 7/10, % = 70.00\n",
      "Character = 01, Correct Predictions = 10/10, % = 100.00\n",
      "Character = 02, Correct Predictions = 4/10, % = 40.00\n",
      "Character = 03, Correct Predictions = 0/10, % = 0.00\n",
      "Character = 04, Correct Predictions = 6/10, % = 60.00\n",
      "Character = 05, Correct Predictions = 6/10, % = 60.00\n",
      "Character = 06, Correct Predictions = 4/10, % = 40.00\n",
      "Character = 07, Correct Predictions = 2/10, % = 20.00\n",
      "Character = 08, Correct Predictions = 7/10, % = 70.00\n",
      "Character = 09, Correct Predictions = 7/10, % = 70.00\n",
      "Character = 10, Correct Predictions = 2/10, % = 20.00\n",
      "Character = 11, Correct Predictions = 1/10, % = 10.00\n",
      "Character = 12, Correct Predictions = 10/10, % = 100.00\n",
      "Character = 13, Correct Predictions = 1/10, % = 10.00\n",
      "Character = 14, Correct Predictions = 6/10, % = 60.00\n",
      "Character = 15, Correct Predictions = 4/10, % = 40.00\n",
      "Character = 16, Correct Predictions = 0/10, % = 0.00\n",
      "Character = 17, Correct Predictions = 7/10, % = 70.00\n",
      "Character = 18, Correct Predictions = 3/10, % = 30.00\n",
      "Character = 19, Correct Predictions = 9/10, % = 90.00\n",
      "Character = 20, Correct Predictions = 4/10, % = 40.00\n",
      "Character = 21, Correct Predictions = 5/10, % = 50.00\n",
      "Character = 22, Correct Predictions = 1/10, % = 10.00\n",
      "Character = 23, Correct Predictions = 1/10, % = 10.00\n",
      "Character = 24, Correct Predictions = 9/10, % = 90.00\n",
      "Character = 25, Correct Predictions = 9/10, % = 90.00\n",
      "Character = 26, Correct Predictions = 0/10, % = 0.00\n",
      "Character = 27, Correct Predictions = 5/10, % = 50.00\n",
      "Character = 28, Correct Predictions = 10/10, % = 100.00\n",
      "Character = 29, Correct Predictions = 6/10, % = 60.00\n",
      "Character = 30, Correct Predictions = 5/10, % = 50.00\n",
      "Character = 31, Correct Predictions = 7/10, % = 70.00\n",
      "Character = 32, Correct Predictions = 9/10, % = 90.00\n",
      "Character = 33, Correct Predictions = 9/10, % = 90.00\n",
      "Character = 34, Correct Predictions = 7/10, % = 70.00\n",
      "Character = 35, Correct Predictions = 6/10, % = 60.00\n",
      "Character = 36, Correct Predictions = 1/10, % = 10.00\n",
      "Character = 37, Correct Predictions = 3/10, % = 30.00\n",
      "Character = 38, Correct Predictions = 2/10, % = 20.00\n",
      "Character = 39, Correct Predictions = 1/10, % = 10.00\n",
      "Character = 40, Correct Predictions = 10/10, % = 100.00\n",
      "Character = 41, Correct Predictions = 7/10, % = 70.00\n",
      "Character = 42, Correct Predictions = 6/10, % = 60.00\n",
      "Character = 43, Correct Predictions = 7/10, % = 70.00\n",
      "Character = 44, Correct Predictions = 6/10, % = 60.00\n",
      "Character = 45, Correct Predictions = 4/10, % = 40.00\n",
      "Character = 46, Correct Predictions = 7/10, % = 70.00\n",
      "Character = 47, Correct Predictions = 6/10, % = 60.00\n",
      "All 480 test samples, 249 Correct Predictions. Accuracy is 51.88%.\n",
      "Total Time Taken = 1.4480059146881104s\n"
     ]
    }
   ],
   "source": [
    "start = time.time()\n",
    "training(arr,3) #NaiveBayes\n",
    "end = time.time()\n",
    "print(\"Total Time Taken = {}s\".format((end - start),))"
   ]
  },
  {
   "cell_type": "markdown",
   "metadata": {},
   "source": [
    "### 4.5 Results for Decision Tree"
   ]
  },
  {
   "cell_type": "code",
   "execution_count": 11,
   "metadata": {},
   "outputs": [
    {
     "name": "stdout",
     "output_type": "stream",
     "text": [
      "Processing Decision Tree...\n",
      "Character = 00, Correct Predictions = 8/10, % = 80.00\n",
      "Character = 01, Correct Predictions = 9/10, % = 90.00\n",
      "Character = 02, Correct Predictions = 6/10, % = 60.00\n",
      "Character = 03, Correct Predictions = 6/10, % = 60.00\n",
      "Character = 04, Correct Predictions = 9/10, % = 90.00\n",
      "Character = 05, Correct Predictions = 6/10, % = 60.00\n",
      "Character = 06, Correct Predictions = 6/10, % = 60.00\n",
      "Character = 07, Correct Predictions = 3/10, % = 30.00\n",
      "Character = 08, Correct Predictions = 4/10, % = 40.00\n",
      "Character = 09, Correct Predictions = 7/10, % = 70.00\n",
      "Character = 10, Correct Predictions = 6/10, % = 60.00\n",
      "Character = 11, Correct Predictions = 5/10, % = 50.00\n",
      "Character = 12, Correct Predictions = 6/10, % = 60.00\n",
      "Character = 13, Correct Predictions = 2/10, % = 20.00\n",
      "Character = 14, Correct Predictions = 7/10, % = 70.00\n",
      "Character = 15, Correct Predictions = 5/10, % = 50.00\n",
      "Character = 16, Correct Predictions = 4/10, % = 40.00\n",
      "Character = 17, Correct Predictions = 8/10, % = 80.00\n",
      "Character = 18, Correct Predictions = 7/10, % = 70.00\n",
      "Character = 19, Correct Predictions = 10/10, % = 100.00\n",
      "Character = 20, Correct Predictions = 6/10, % = 60.00\n",
      "Character = 21, Correct Predictions = 7/10, % = 70.00\n",
      "Character = 22, Correct Predictions = 2/10, % = 20.00\n",
      "Character = 23, Correct Predictions = 6/10, % = 60.00\n",
      "Character = 24, Correct Predictions = 9/10, % = 90.00\n",
      "Character = 25, Correct Predictions = 5/10, % = 50.00\n",
      "Character = 26, Correct Predictions = 3/10, % = 30.00\n",
      "Character = 27, Correct Predictions = 5/10, % = 50.00\n",
      "Character = 28, Correct Predictions = 10/10, % = 100.00\n",
      "Character = 29, Correct Predictions = 6/10, % = 60.00\n",
      "Character = 30, Correct Predictions = 5/10, % = 50.00\n",
      "Character = 31, Correct Predictions = 5/10, % = 50.00\n",
      "Character = 32, Correct Predictions = 7/10, % = 70.00\n",
      "Character = 33, Correct Predictions = 5/10, % = 50.00\n",
      "Character = 34, Correct Predictions = 3/10, % = 30.00\n",
      "Character = 35, Correct Predictions = 6/10, % = 60.00\n",
      "Character = 36, Correct Predictions = 7/10, % = 70.00\n",
      "Character = 37, Correct Predictions = 7/10, % = 70.00\n",
      "Character = 38, Correct Predictions = 7/10, % = 70.00\n",
      "Character = 39, Correct Predictions = 9/10, % = 90.00\n",
      "Character = 40, Correct Predictions = 4/10, % = 40.00\n",
      "Character = 41, Correct Predictions = 9/10, % = 90.00\n",
      "Character = 42, Correct Predictions = 7/10, % = 70.00\n",
      "Character = 43, Correct Predictions = 4/10, % = 40.00\n",
      "Character = 44, Correct Predictions = 5/10, % = 50.00\n",
      "Character = 45, Correct Predictions = 7/10, % = 70.00\n",
      "Character = 46, Correct Predictions = 4/10, % = 40.00\n",
      "Character = 47, Correct Predictions = 4/10, % = 40.00\n",
      "All 480 test samples, 288 Correct Predictions. Accuracy is 60.00%.\n",
      "Total Time Taken = 8.940279245376587s\n"
     ]
    }
   ],
   "source": [
    "start = time.time()\n",
    "training(arr,4) #DecisionTree\n",
    "end = time.time()\n",
    "print(\"Total Time Taken = {}s\".format((end - start),))"
   ]
  },
  {
   "cell_type": "markdown",
   "metadata": {},
   "source": [
    "### 4.6 Results for Perceptron"
   ]
  },
  {
   "cell_type": "code",
   "execution_count": 12,
   "metadata": {},
   "outputs": [
    {
     "name": "stdout",
     "output_type": "stream",
     "text": [
      "Processing Perceptron...\n",
      "Character = 00, Correct Predictions = 6/10, % = 60.00\n",
      "Character = 01, Correct Predictions = 8/10, % = 80.00\n",
      "Character = 02, Correct Predictions = 7/10, % = 70.00\n",
      "Character = 03, Correct Predictions = 5/10, % = 50.00\n",
      "Character = 04, Correct Predictions = 4/10, % = 40.00\n",
      "Character = 05, Correct Predictions = 8/10, % = 80.00\n",
      "Character = 06, Correct Predictions = 5/10, % = 50.00\n",
      "Character = 07, Correct Predictions = 4/10, % = 40.00\n",
      "Character = 08, Correct Predictions = 5/10, % = 50.00\n",
      "Character = 09, Correct Predictions = 6/10, % = 60.00\n",
      "Character = 10, Correct Predictions = 3/10, % = 30.00\n",
      "Character = 11, Correct Predictions = 6/10, % = 60.00\n",
      "Character = 12, Correct Predictions = 7/10, % = 70.00\n",
      "Character = 13, Correct Predictions = 6/10, % = 60.00\n",
      "Character = 14, Correct Predictions = 4/10, % = 40.00\n",
      "Character = 15, Correct Predictions = 4/10, % = 40.00\n",
      "Character = 16, Correct Predictions = 5/10, % = 50.00\n",
      "Character = 17, Correct Predictions = 6/10, % = 60.00\n",
      "Character = 18, Correct Predictions = 1/10, % = 10.00\n",
      "Character = 19, Correct Predictions = 9/10, % = 90.00\n",
      "Character = 20, Correct Predictions = 3/10, % = 30.00\n",
      "Character = 21, Correct Predictions = 4/10, % = 40.00\n",
      "Character = 22, Correct Predictions = 5/10, % = 50.00\n",
      "Character = 23, Correct Predictions = 2/10, % = 20.00\n",
      "Character = 24, Correct Predictions = 6/10, % = 60.00\n",
      "Character = 25, Correct Predictions = 6/10, % = 60.00\n",
      "Character = 26, Correct Predictions = 6/10, % = 60.00\n",
      "Character = 27, Correct Predictions = 3/10, % = 30.00\n",
      "Character = 28, Correct Predictions = 6/10, % = 60.00\n",
      "Character = 29, Correct Predictions = 6/10, % = 60.00\n",
      "Character = 30, Correct Predictions = 4/10, % = 40.00\n",
      "Character = 31, Correct Predictions = 5/10, % = 50.00\n",
      "Character = 32, Correct Predictions = 8/10, % = 80.00\n",
      "Character = 33, Correct Predictions = 5/10, % = 50.00\n",
      "Character = 34, Correct Predictions = 5/10, % = 50.00\n",
      "Character = 35, Correct Predictions = 5/10, % = 50.00\n",
      "Character = 36, Correct Predictions = 7/10, % = 70.00\n",
      "Character = 37, Correct Predictions = 9/10, % = 90.00\n",
      "Character = 38, Correct Predictions = 3/10, % = 30.00\n",
      "Character = 39, Correct Predictions = 6/10, % = 60.00\n",
      "Character = 40, Correct Predictions = 6/10, % = 60.00\n",
      "Character = 41, Correct Predictions = 6/10, % = 60.00\n",
      "Character = 42, Correct Predictions = 4/10, % = 40.00\n",
      "Character = 43, Correct Predictions = 4/10, % = 40.00\n",
      "Character = 44, Correct Predictions = 6/10, % = 60.00\n",
      "Character = 45, Correct Predictions = 4/10, % = 40.00\n",
      "Character = 46, Correct Predictions = 4/10, % = 40.00\n",
      "Character = 47, Correct Predictions = 4/10, % = 40.00\n",
      "All 480 test samples, 251 Correct Predictions. Accuracy is 52.29%.\n",
      "Total Time Taken = 48.68615007400513s\n"
     ]
    }
   ],
   "source": [
    "start = time.time()\n",
    "training(arr,5) #Perceptron\n",
    "end = time.time()\n",
    "print(\"Total Time Taken = {}s\".format((end - start),))"
   ]
  },
  {
   "cell_type": "markdown",
   "metadata": {},
   "source": [
    "### 4.7 Results for Logistic Regression"
   ]
  },
  {
   "cell_type": "code",
   "execution_count": 13,
   "metadata": {},
   "outputs": [
    {
     "name": "stdout",
     "output_type": "stream",
     "text": [
      "Processing Logistic Regression...\n"
     ]
    },
    {
     "name": "stderr",
     "output_type": "stream",
     "text": [
      "D:\\OtherStuff\\Anaconda\\lib\\site-packages\\sklearn\\linear_model\\logistic.py:432: FutureWarning: Default solver will be changed to 'lbfgs' in 0.22. Specify a solver to silence this warning.\n",
      "  FutureWarning)\n",
      "D:\\OtherStuff\\Anaconda\\lib\\site-packages\\sklearn\\linear_model\\logistic.py:469: FutureWarning: Default multi_class will be changed to 'auto' in 0.22. Specify the multi_class option to silence this warning.\n",
      "  \"this warning.\", FutureWarning)\n"
     ]
    },
    {
     "name": "stdout",
     "output_type": "stream",
     "text": [
      "Character = 00, Correct Predictions = 6/10, % = 60.00\n",
      "Character = 01, Correct Predictions = 8/10, % = 80.00\n",
      "Character = 02, Correct Predictions = 6/10, % = 60.00\n",
      "Character = 03, Correct Predictions = 4/10, % = 40.00\n",
      "Character = 04, Correct Predictions = 7/10, % = 70.00\n",
      "Character = 05, Correct Predictions = 8/10, % = 80.00\n",
      "Character = 06, Correct Predictions = 5/10, % = 50.00\n",
      "Character = 07, Correct Predictions = 5/10, % = 50.00\n",
      "Character = 08, Correct Predictions = 6/10, % = 60.00\n",
      "Character = 09, Correct Predictions = 7/10, % = 70.00\n",
      "Character = 10, Correct Predictions = 4/10, % = 40.00\n",
      "Character = 11, Correct Predictions = 7/10, % = 70.00\n",
      "Character = 12, Correct Predictions = 5/10, % = 50.00\n",
      "Character = 13, Correct Predictions = 6/10, % = 60.00\n",
      "Character = 14, Correct Predictions = 6/10, % = 60.00\n",
      "Character = 15, Correct Predictions = 4/10, % = 40.00\n",
      "Character = 16, Correct Predictions = 5/10, % = 50.00\n",
      "Character = 17, Correct Predictions = 6/10, % = 60.00\n",
      "Character = 18, Correct Predictions = 2/10, % = 20.00\n",
      "Character = 19, Correct Predictions = 9/10, % = 90.00\n",
      "Character = 20, Correct Predictions = 4/10, % = 40.00\n",
      "Character = 21, Correct Predictions = 2/10, % = 20.00\n",
      "Character = 22, Correct Predictions = 5/10, % = 50.00\n",
      "Character = 23, Correct Predictions = 1/10, % = 10.00\n",
      "Character = 24, Correct Predictions = 6/10, % = 60.00\n",
      "Character = 25, Correct Predictions = 7/10, % = 70.00\n",
      "Character = 26, Correct Predictions = 6/10, % = 60.00\n",
      "Character = 27, Correct Predictions = 3/10, % = 30.00\n",
      "Character = 28, Correct Predictions = 7/10, % = 70.00\n",
      "Character = 29, Correct Predictions = 6/10, % = 60.00\n",
      "Character = 30, Correct Predictions = 6/10, % = 60.00\n",
      "Character = 31, Correct Predictions = 7/10, % = 70.00\n",
      "Character = 32, Correct Predictions = 9/10, % = 90.00\n",
      "Character = 33, Correct Predictions = 5/10, % = 50.00\n",
      "Character = 34, Correct Predictions = 7/10, % = 70.00\n",
      "Character = 35, Correct Predictions = 5/10, % = 50.00\n",
      "Character = 36, Correct Predictions = 5/10, % = 50.00\n",
      "Character = 37, Correct Predictions = 8/10, % = 80.00\n",
      "Character = 38, Correct Predictions = 4/10, % = 40.00\n",
      "Character = 39, Correct Predictions = 7/10, % = 70.00\n",
      "Character = 40, Correct Predictions = 7/10, % = 70.00\n",
      "Character = 41, Correct Predictions = 6/10, % = 60.00\n",
      "Character = 42, Correct Predictions = 6/10, % = 60.00\n",
      "Character = 43, Correct Predictions = 3/10, % = 30.00\n",
      "Character = 44, Correct Predictions = 6/10, % = 60.00\n",
      "Character = 45, Correct Predictions = 5/10, % = 50.00\n",
      "Character = 46, Correct Predictions = 5/10, % = 50.00\n",
      "Character = 47, Correct Predictions = 3/10, % = 30.00\n",
      "All 480 test samples, 267 Correct Predictions. Accuracy is 55.62%.\n",
      "Total Time Taken = 519.1865808963776s\n"
     ]
    }
   ],
   "source": [
    "start = time.time()\n",
    "training(arr,2) #Logistic Regression\n",
    "end = time.time()\n",
    "print(\"Total Time Taken = {}s\".format((end - start),))"
   ]
  },
  {
   "cell_type": "markdown",
   "metadata": {},
   "source": [
    "### 4.8 Results for each individual character\n",
    "Below shows the results for each individual character, when being classified with all 6 classifiers."
   ]
  },
  {
   "cell_type": "code",
   "execution_count": 14,
   "metadata": {},
   "outputs": [
    {
     "name": "stdout",
     "output_type": "stream",
     "text": [
      "Character = 00, Total Correct = 38/60, Total % = 63.33\n",
      "Character = 01, Total Correct = 50/60, Total % = 83.33\n",
      "Character = 02, Total Correct = 32/60, Total % = 53.33\n",
      "Character = 03, Total Correct = 26/60, Total % = 43.33\n",
      "Character = 04, Total Correct = 40/60, Total % = 66.67\n",
      "Character = 05, Total Correct = 41/60, Total % = 68.33\n",
      "Character = 06, Total Correct = 34/60, Total % = 56.67\n",
      "Character = 07, Total Correct = 25/60, Total % = 41.67\n",
      "Character = 08, Total Correct = 35/60, Total % = 58.33\n",
      "Character = 09, Total Correct = 43/60, Total % = 71.67\n",
      "Character = 10, Total Correct = 25/60, Total % = 41.67\n",
      "Character = 11, Total Correct = 31/60, Total % = 51.67\n",
      "Character = 12, Total Correct = 38/60, Total % = 63.33\n",
      "Character = 13, Total Correct = 26/60, Total % = 43.33\n",
      "Character = 14, Total Correct = 35/60, Total % = 58.33\n",
      "Character = 15, Total Correct = 21/60, Total % = 35.00\n",
      "Character = 16, Total Correct = 22/60, Total % = 36.67\n",
      "Character = 17, Total Correct = 38/60, Total % = 63.33\n",
      "Character = 18, Total Correct = 22/60, Total % = 36.67\n",
      "Character = 19, Total Correct = 55/60, Total % = 91.67\n",
      "Character = 20, Total Correct = 28/60, Total % = 46.67\n",
      "Character = 21, Total Correct = 27/60, Total % = 45.00\n",
      "Character = 22, Total Correct = 23/60, Total % = 38.33\n",
      "Character = 23, Total Correct = 13/60, Total % = 21.67\n",
      "Character = 24, Total Correct = 43/60, Total % = 71.67\n",
      "Character = 25, Total Correct = 42/60, Total % = 70.00\n",
      "Character = 26, Total Correct = 27/60, Total % = 45.00\n",
      "Character = 27, Total Correct = 26/60, Total % = 43.33\n",
      "Character = 28, Total Correct = 46/60, Total % = 76.67\n",
      "Character = 29, Total Correct = 36/60, Total % = 60.00\n",
      "Character = 30, Total Correct = 30/60, Total % = 50.00\n",
      "Character = 31, Total Correct = 37/60, Total % = 61.67\n",
      "Character = 32, Total Correct = 45/60, Total % = 75.00\n",
      "Character = 33, Total Correct = 31/60, Total % = 51.67\n",
      "Character = 34, Total Correct = 33/60, Total % = 55.00\n",
      "Character = 35, Total Correct = 30/60, Total % = 50.00\n",
      "Character = 36, Total Correct = 31/60, Total % = 51.67\n",
      "Character = 37, Total Correct = 40/60, Total % = 66.67\n",
      "Character = 38, Total Correct = 24/60, Total % = 40.00\n",
      "Character = 39, Total Correct = 38/60, Total % = 63.33\n",
      "Character = 40, Total Correct = 42/60, Total % = 70.00\n",
      "Character = 41, Total Correct = 42/60, Total % = 70.00\n",
      "Character = 42, Total Correct = 36/60, Total % = 60.00\n",
      "Character = 43, Total Correct = 22/60, Total % = 36.67\n",
      "Character = 44, Total Correct = 36/60, Total % = 60.00\n",
      "Character = 45, Total Correct = 32/60, Total % = 53.33\n",
      "Character = 46, Total Correct = 30/60, Total % = 50.00\n",
      "Character = 47, Total Correct = 24/60, Total % = 40.00\n"
     ]
    }
   ],
   "source": [
    " for i in range(len(char_list)):\n",
    "        print(\"Character = {0:02d}, Total Correct = {1:.0f}/60, Total % = {2:.2f}\".format(i, char_list[i], (char_list[i]/(10*6)* 100)))"
   ]
  },
  {
   "cell_type": "markdown",
   "metadata": {},
   "source": [
    "## 5 Evaluation\n",
    "### 5.1 Overall Classifier Performance\n",
    "With a random classifier that takes random guesses, the accuracy would be 1/48, equivalent to 2.08% , as there are 48 classes. However, using the classifiers, we get an accuracy of around 55%, which is a significant improvement compared to a random classifier.\n",
    "\n",
    "| Classifier | Accuracy | Time Taken |\n",
    "| ----------- | ----------- | ----------- |\n",
    "| KNeighbour | 58.33% | 22.25s |\n",
    "| Linear Regression | 53.33% | 119.86s |\n",
    "| Naive Bayes | 51.88% | 1.33s |\n",
    "| Decision Tree | 57.70% | 8.30s |\n",
    "| Perceptron | 52.29% | 49.33s |\n",
    "| Logistic Regression | 55.63% | 513.29s |\n",
    "\n",
    "### 5.2 Classifier Performance on Individual Characters\n",
    "The lowest accuracy on a single character is 0%, which has occured with character 15 using the KNeighbour Classifier. This is particularly bad because the accuracy of a random classifier that takes random guesses will be 2.08%, meaning a random classifier will be correct 2.08% of the time when given samples of character 15. However, KNeighbour provided us with a 0% accuracy for this specific character. The cause of this is probably beacause of the close similarity in character 15 and character 7 and the behavior of the KNeighbour classifier. More on this is covered in Section 6.1.\n",
    "\n",
    "### 5.3 Best Classifier\n",
    "#### 5.3.1 KNeighbour\n",
    "Eventhough KNeighbour has the highest accuracy of 58.33%, the total time taken for training and testing is 22.25s, which can be considered as pretty high relative to some of the other classifiers. \n",
    "#### 5.3.2 Decision Tree\n",
    "Decision Tree has a slightly reduced accuracy of 57.70%, but the time taken is 8.30s, approximately 14s faster compared to KNeighbour. Depending on the situation, Decision Tree may be a better choice in a time-limited situation. \n",
    "#### 5.3.3 Naive Bayes\n",
    "Naive Bayes can also be considered as it requires a significantly lower time of 1.33s, but trading off with quite an amount of accuracy, resulting in 51.88%\n",
    "#### 5.3.4 Other Classifiers\n",
    "The other classifiers performed badly in both terms of accuracy and time taken.\n",
    "\n",
    "## 6 Discussion\n",
    "### 6.1 KNeighbour's accuracy of 0% on Character 15\n",
    "We can see from the results of KNeighbour above, that the classifier predicted 7 out of 10 of the samples to be character 7. Below shows the character 15 on the left, and character 7 on the right. We can see the very close similarities of these 2 characters and understand why the classifier is having trouble on classifying this character."
   ]
  },
  {
   "cell_type": "code",
   "execution_count": 15,
   "metadata": {},
   "outputs": [
    {
     "data": {
      "image/png": "[encoded data removed]",
      "text/plain": [
       "<Figure size 432x288 with 2 Axes>"
      ]
     },
     "metadata": {
      "needs_background": "light"
     },
     "output_type": "display_data"
    }
   ],
   "source": [
    "fig = plt.figure()\n",
    "fig.add_subplot(1,2,1)\n",
    "view_image(arr,15,0)\n",
    "fig.add_subplot(1,2,2)\n",
    "view_image(arr,7,0)"
   ]
  },
  {
   "cell_type": "markdown",
   "metadata": {},
   "source": [
    "### 6.2 Things that might have decreased the accuracy\n",
    "#### 6.2.1 Image Alignment\n",
    "The images are not aligned properly, in which characters may be written at different positions which caused difficulties to some classifiers. eg. a character may be written at the top left for one instance, and at the bottom right for another instance. Some of the steps we could have taken was to align the leftmost white pixel to the left and the bottom-most white pixel to the bottom to help align all the character's position in each image to the bottom left. The example below shows the horizontal stroke being completely different in coordinate positions. The left is within x=10 and x=20, whereaas the right is within x=20 and x=30."
   ]
  },
  {
   "cell_type": "code",
   "execution_count": 16,
   "metadata": {},
   "outputs": [
    {
     "data": {
      "image/png": "[encoded data removed]",
      "text/plain": [
       "<Figure size 432x288 with 2 Axes>"
      ]
     },
     "metadata": {
      "needs_background": "light"
     },
     "output_type": "display_data"
    }
   ],
   "source": [
    "fig = plt.figure()\n",
    "fig.add_subplot(1,2,1)\n",
    "view_image(arr,1,0)\n",
    "fig.add_subplot(1,2,2)\n",
    "view_image(arr,1,15)"
   ]
  },
  {
   "cell_type": "markdown",
   "metadata": {},
   "source": [
    "#### 6.2.2 Image Size\n",
    "Some of the image may look very similar, but their sizes are significantly different which caused the color pixel locations to vary by a lot. The example below shows this. It is difficult for a classifier to work with these images. An improvement that should be done was to resize/rescale the right image to fit the entire 50x50 pixel area before performing training/testing."
   ]
  },
  {
   "cell_type": "code",
   "execution_count": 17,
   "metadata": {},
   "outputs": [
    {
     "data": {
      "image/png": "[encoded data removed]",
      "text/plain": [
       "<Figure size 432x288 with 2 Axes>"
      ]
     },
     "metadata": {
      "needs_background": "light"
     },
     "output_type": "display_data"
    }
   ],
   "source": [
    "fig = plt.figure()\n",
    "fig.add_subplot(1,2,1)\n",
    "view_image(arr,1,25)\n",
    "fig.add_subplot(1,2,2)\n",
    "view_image(arr,1,13)"
   ]
  },
  {
   "cell_type": "markdown",
   "metadata": {},
   "source": [
    "#### 6.2.3 Katakana Characters Similarity\n",
    "Some Katakana characters are highly similar and only have a few small differences in strokes. Classifiers have a difficult time in differenciating between them. An example are the 2 characters below."
   ]
  },
  {
   "cell_type": "code",
   "execution_count": 18,
   "metadata": {},
   "outputs": [
    {
     "data": {
      "image/png": "[encoded data removed]",
      "text/plain": [
       "<Figure size 432x288 with 2 Axes>"
      ]
     },
     "metadata": {
      "needs_background": "light"
     },
     "output_type": "display_data"
    }
   ],
   "source": [
    "fig = plt.figure()\n",
    "fig.add_subplot(1,2,1)\n",
    "view_image(arr,7,0)\n",
    "fig.add_subplot(1,2,2)\n",
    "view_image(arr,8,0)"
   ]
  },
  {
   "cell_type": "markdown",
   "metadata": {},
   "source": [
    "#### 6.2.4 Katakana Characters Complexity\n",
    "Character 23, shown below, has the lowest overall accuracy of 21.67% when considering all 6 classifiers. The character 23 is the character with the largest about of strokes and can be considered to be the most complex. From our results we can tell that classifiers have a more difficult time in classifying complex characters."
   ]
  },
  {
   "cell_type": "code",
   "execution_count": 19,
   "metadata": {},
   "outputs": [
    {
     "data": {
      "image/png": "[encoded data removed]",
      "text/plain": [
       "<Figure size 432x288 with 1 Axes>"
      ]
     },
     "metadata": {
      "needs_background": "light"
     },
     "output_type": "display_data"
    }
   ],
   "source": [
    "fig = plt.figure()\n",
    "fig.add_subplot(1,2,1)\n",
    "view_image(arr,23,0)"
   ]
  },
  {
   "cell_type": "markdown",
   "metadata": {},
   "source": [
    "### 6.3 What to improve on\n",
    "#### 6.3.1 Image alignment\n",
    "All images can be first aligned to a specific location, for example to the bottom left. This will help all images to be consistently appearing in a specific location and not all around the place, which will help similar features/strokes of the character to be more consistent in one coordinate between all the instances.\n",
    "\n",
    "#### 6.3.2 Image re-size/re-scale\n",
    "All images could be resized or rescaled to fit the full 50x50 pixel area before performing classification or training so that their features can be more properly identified as the inconsistent sizes between the instances are eliminated.\n",
    "\n",
    "#### 6.3.3 Additional image features\n",
    "Additional image features such as number of colored pixels, number of strokes, number of closed loops and so forth can be used to help the classifier.\n",
    "\n",
    "\n",
    "### 6.4 Next steps\n",
    "Intuitively when people see images, they recognize the whole shape and relate neighbour pixels together. With the ability to identify the border of character, we could identify with image translation and scaling. \n",
    "A CNN (Convolutional Neural Network) would be more ideal in this case and it has shown great results since it's invented.\n",
    "To avoid losing spatial interactions between pixels, a CNN effectively uses adjacent pixel information to  downsample the image by convolution and then apply a prediction layer at the end.\n",
    "\n",
    "\n",
    "## 7 Conclusion \n",
    "In this project, we used data mining techniques to recognize Japanese katakana and applied several classifiers to predict them. The overall accuracy is around 55% and the accuracy variation among classifiers are small. It is highly possible that our classifiers identify the right character. Due to the complexity of characters and quality of image, more engineering skills and better image processing algorithms could be applied to improve accuracy.\n",
    "\n",
    "## 8 Acknowledgements\n",
    "This report presents the project of 2019 fall data mining course. We would like to express our great appreciation to professor Dr. Alex Thomo and lab instructor Yudi Santoso for the guidance and assistance during the course."
   ]
  },
  {
   "cell_type": "markdown",
   "metadata": {},
   "source": [
    "## 9 References\n",
    "- [1] “About the ETL Character Database,” etlcdb. [Online]. Available: http://etlcdb.db.aist.go.jp/. [Accessed: 25-Nov-2019].\n",
    "\n",
    "- [2] \"How I built a handwriting recognizer and shipped it to the App Store\", freeCodeCamp.org, 2019. [Online]. Available: https://www.freecodecamp.org/news/build-a-handwriting-recognizer-ship-it-to-app-store-fcce24205b4b/. [Accessed: 25- Nov- 2019].\n",
    "\n",
    "- [3] Ujjwalkarn, “An Intuitive Explanation of Convolutional Neural Networks,” the data science blog, 29-May-2017. [Online]. Available: https://ujjwalkarn.me/2016/08/11/intuitive-explanation-convnets/. [Accessed: 05-Dec-2019].\n",
    "\n"
   ]
  }
 ],
 "metadata": {
  "kernelspec": {
   "display_name": "Python 3",
   "language": "python",
   "name": "python3"
  },
  "language_info": {
   "codemirror_mode": {
    "name": "ipython",
    "version": 3
   },
   "file_extension": ".py",
   "mimetype": "text/x-python",
   "name": "python",
   "nbconvert_exporter": "python",
   "pygments_lexer": "ipython3",
   "version": "3.7.3"
  }
 },
 "nbformat": 4,
 "nbformat_minor": 2
}
